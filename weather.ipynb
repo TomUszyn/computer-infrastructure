{
 "cells": [
  {
   "cell_type": "markdown",
   "metadata": {},
   "source": [
    "# Computer Infrastructure Module Assessments."
   ]
  },
  {
   "cell_type": "markdown",
   "metadata": {},
   "source": [
    "This Jupyter notebook contains a set of tasks that are part of the Computer Infrastructure module assessment. Below are listed the tasks and their solutions."
   ]
  },
  {
   "cell_type": "markdown",
   "metadata": {},
   "source": [
    "To efficiently complete tasks, understanding the directory structure and knowing how to navigate between directories is essential.\n",
    "\n",
    "Here are some fundamental terminal navigation commands:\n",
    "\n",
    "`ls`: used to display directories and files in the current directory.\n",
    "\n",
    "`cd [directory]`: used to switch to the specified directory.\n",
    "\n",
    "`cd ..`: used to move up to the parent directory.\n",
    "\n",
    "`pwd`: used to show the full path of the current working directory.\n",
    "\n",
    "`mkdir [directory_name]`: used to create a new directory with the expected  name.\n",
    "\n",
    "For detailed information about any of these commands, use man [command_name]."
   ]
  },
  {
   "cell_type": "markdown",
   "metadata": {},
   "source": [
    "### Task 1: Create Directory Structure\n",
    "\n",
    "Using the command line, create a directory (that is, a folder) named `data` at the root of your repository. Inside `data`, create two subdirectories: `timestamps` and `weather`."
   ]
  },
  {
   "cell_type": "markdown",
   "metadata": {},
   "source": [
    "#### Solution:\n",
    "\n",
    "It's crucial to be in the root of your directory before creating new ones. The `mkdir` command is used to build a directory structure. For guidance on using this command, refer to `man mkdir`. The manual for `mkdir` is also available at man7.org.\n",
    "\n",
    "There are two approaches to creating a directory structure:\n",
    "\n",
    "1. Step-by-Step Creation:\n",
    "\n",
    "    To create a data directory, use: \n",
    "    \n",
    "    ```bash\n",
    "    mkdir data\n",
    "    ```\n",
    "    \n",
    "    Then, switch to this directory using: \n",
    "    \n",
    "    ```bash\n",
    "    cd data\n",
    "    ```\n",
    "\n",
    "    Create subdirectories named timestamps and weather:\n",
    "\n",
    "    ```bash\n",
    "    mkdir timestamps\n",
    "    mkdir weather\n",
    "    ```\n",
    "\n",
    "2. Single Command Creation:\n",
    "\n",
    "    Use the following commands to create directories and subdirectories in one go:\n",
    "\n",
    "    ```bash\n",
    "    mkdir -p data/timestamps\n",
    "    mkdir -p data/weather\n",
    "    ```\n",
    "\n",
    "    The -p, --parents option is advantageous because it allows the creation of a new directory structure    without the concern of existing directories."
   ]
  },
  {
   "cell_type": "markdown",
   "metadata": {},
   "source": [
    "### Task 2: Timestamps\n",
    "\n",
    "Navigate to the `data/timestamps` directory. Use the `date` command to output the current date and time, appending the output to a file named `now.txt`. Make sure to use the `>>` operator to append (not overwrite) the file. Repeat this step ten times, then use the more command to verify that `now.txt` has the expected content."
   ]
  },
  {
   "cell_type": "markdown",
   "metadata": {},
   "source": [
    "#### Solution:\n",
    "\n",
    "To navigate from the root of the repository, use the following:\n",
    "\n",
    "```bash\n",
    "cd data\n",
    "```\n",
    "\n",
    "and then \n",
    "\n",
    "```bash\n",
    "cd timestamps\n",
    "```\n",
    "\n",
    "Another faster way  is to use: \n",
    "\n",
    "```bash\n",
    "cd data/timestamps\n",
    "```\n",
    "\n",
    "To realise the task, use the command `date`, which prints or sets the system date and time. The syntax is:\n",
    "\n",
    "```bash\n",
    "date >> now.txt\n",
    "```\n",
    "\n",
    "This command appends the current date to the now.txt file.\n",
    "Then, repeat this step ten times. This can be done manually by executing the previous command ten times.<br> Alternatively, a ***for*** loop can be used, where the user can declare how many times the loop will be executed.<br>\n",
    "\n",
    "Here is the syntax to realise the automatisation of this task:\n",
    "\n",
    "```bash\n",
    "for i in {1..10}; do date >> now.txt; sleep 10; done\n",
    "```\n",
    "\n",
    "`sleep` is represented by the value in seconds (for example, 1 as 1 second), minutes (for example, 2m as 2 minutes,) hours (for example, 1 has 1 hour), or days (for example, 1d as 1 day).\n",
    "\n",
    "To find out more about the `for` loop, visit [Cyberciti website - Bash For Loop Examples](https://www.cyberciti.biz/faq/bash-for-loop/). To better understand the `sleep` \n",
    "command, go to [Cyberciti website - Linux / UNIX Bash Script Sleep or Delay a Specified Amount of Time](https://www.cyberciti.biz/faq/linux-unix-sleep-bash-scripting/).\n",
    "Please notice that if the user does not use the `sleep` command all records in the now.txt file will have the same value. Users can set time intervals by using the `sleep` \n",
    "command helps decide how often the date will be appended to the text file.\n",
    "\n",
    "\n",
    "To see the result of the execution of this code, use the `more` command in this case: \n",
    "\n",
    "```bash\n",
    "more now.txt\n",
    "```\n",
    "\n",
    "Visit [Man7 website](https://man7.org/linux/man-pages/man1/more.1.html) for more information about the `more` command."
   ]
  },
  {
   "cell_type": "markdown",
   "metadata": {},
   "source": [
    "### Task 3: Formatting Timestamps\n",
    "\n",
    "Run the `date` command again, but this time format the output using YYYYmmdd_HHMMSS (e.g., 20261114_130003 for 1:00:03 PM on November 14, 2026). Refer to the `date` man page (using `man date`) for more formatting options. (Press q to exit the man page). Append the formatted output to a file named `formatted.txt`."
   ]
  },
  {
   "cell_type": "markdown",
   "metadata": {},
   "source": [
    "#### Solution:\n",
    "\n",
    "Ensure you are in the correct directory by using the `pwd` command to verify the path.\n",
    "\n",
    "To complete the task, refer to the manual for the `date` command with `man date`. \n",
    "This will provide guidance on formatting the output to the YYYYmmdd_HHMMSS form. Accoding to `man date` \n",
    "%Y is related to a year, %m is associated with a month, %d is related to a day, %H is related to an \n",
    "hour, %M is related to a minute, and %S is related to a second. \n",
    "The syntax is:\n",
    "\n",
    "`date +\"%Y%m%d_%H%M%S\"`\n",
    "\n",
    "To append the previously formatted date to the text file formatted.txt, use the command:\n",
    "\n",
    "```bash\n",
    "date +\"%Y%m%d_%H%M%S\" >> formatted.txt\n",
    "```\n",
    "\n",
    "Notice: make sure to use `>>` instead of `>` because using `>` overwrites existing data inside the formatted.txt file."
   ]
  },
  {
   "cell_type": "markdown",
   "metadata": {},
   "source": [
    "### Task 4: Create Timestamped Files\n",
    "\n",
    "Use the `touch` command to create an empty file with a name in the `YYYYmmdd_HHMMSS.txt` format. You can achieve this by embedding your date command in backticks \\` into the `touch` command. You should no longer use redirection (`>>`) in this step."
   ]
  },
  {
   "cell_type": "markdown",
   "metadata": {},
   "source": [
    "#### Solution:\n",
    "\n",
    "The `touch` command serves two purposes: creating a new empty file if it does not already exist or updating the last modified timestamp of an existing file. To understand the specifics of using the touch command, consult the manual using man touch. In this case, the Bash interpreter treats the output of the date command as the filename by placing it between backticks.\n",
    "\n",
    "Here is the syntax:\n",
    "\n",
    "```bash\n",
    "touch `date +\"%Y%m%d_%H%M%S\".txt`\n",
    "```\n",
    "\n",
    "\n",
    "\n",
    "\n",
    "\n",
    "Executing this command will create an empty text file with a name that reflects the date and time of its creation."
   ]
  },
  {
   "cell_type": "markdown",
   "metadata": {},
   "source": [
    "### Task 5: Download Today's Weather Data\n",
    "\n",
    "Change to the `data/weather` directory. Download the latest weather data for the Athenry weather station from Met Eireann using `wget`. Use the ***-O filename*** option to save the file as `weather.json`. The data can be found at this URL:\n",
    "https://prodapi.metweb.ie/observations/athenry/today."
   ]
  },
  {
   "cell_type": "markdown",
   "metadata": {},
   "source": [
    "#### Solution:\n",
    "\n",
    "Navigate to be in the proper directory. If not, change the directory to data/weather.\n",
    "\n",
    "The `wget` command is used to download data from the network in the text-based interface.\n",
    "\n",
    "Use the command:\n",
    "\n",
    "```bash\n",
    "man wget\n",
    "```\n",
    "\n",
    "to learn more about how to use it.\n",
    "\n",
    "The syntax to realise the task is:\n",
    "\n",
    "```bash\n",
    "wget -O weather.json https://prodapi.metweb.ie/observations/athenry/today\n",
    "```\n",
    "\n",
    "where -O is the user to provide the name of the file."
   ]
  },
  {
   "cell_type": "markdown",
   "metadata": {},
   "source": [
    "### Task 6: Timestamp the Data\n",
    "\n",
    "Modify the command from Task 5 to save the downloaded file with a timestamped name in the format YYYYmmdd_HHMMSS.json."
   ]
  },
  {
   "cell_type": "markdown",
   "metadata": {},
   "source": [
    "#### Solution:\n",
    "\n",
    "Like previously, make sure you are in the proper directory. It is possible to save data into expected directory giving a path to the location.\n",
    "\n",
    "Then, using knowledge from previous tasks about backticks and the `wget` command, we can download \n",
    "data and save it in timestamp format to the json file. \n",
    "\n",
    "The syntax is:\n",
    "```bash\n",
    "wget -O `date +\"%Y%m%d_%H%M%S\".json` https://prodapi.metweb.ie/observations/athenry/today\n",
    "```"
   ]
  },
  {
   "cell_type": "markdown",
   "metadata": {},
   "source": [
    "### Task 7: Write the Script\n",
    "\n",
    "Write a bash script called weather.sh in the root of your repository. This script should automate the process from Task 6, saving the weather data to the data/weather directory. \n",
    "Make the script executable and test it by running it."
   ]
  },
  {
   "cell_type": "markdown",
   "metadata": {},
   "source": [
    "#### Solution:\n",
    "\n",
    "First, make sure you're in the root directory of your repository.\n",
    "You can create the weather.sh file using your preferred text editor. Visual Studio Code is the best possible option for a feature-rich interface, or you can use terminal-based editors like Nano or Vi if you're in a bash environment.\n",
    "\n",
    "Inside the file, add the following:\n",
    "```bash\n",
    "#! /bin/bash\n",
    "\n",
    "wget -O data/weather/`date +\"%Y%m%d_%H%M%S\".json` https://prodapi.metweb.ie/observations/athenry/today\n",
    "```\n",
    "The first line is a shebang `#!`, which is the symbol used at the beginning of a script file to indicate which interpreter should be used to execute the script. The script will be run using the bash shell. Other lines of code, such as the code from task 6, can follow that.\n",
    "\n",
    "To make the file executable, use the chmod command:\n",
    "```bash\n",
    "chmod u+x weather.sh\n",
    "```\n",
    "This command changes the file permissions to make it executable. For more details about the `chmod` command simple type `man chmod`."
   ]
  },
  {
   "cell_type": "markdown",
   "metadata": {},
   "source": [
    "### Task 8: Notebook\n",
    "\n",
    "Create a notebook called weather.ipynb at the root of your repository. In this notebook, write a brief report explaining how you completed Tasks 1 to 7. Provide short \n",
    "descriptions of the commands used in each task and explain their role in completing the tasks."
   ]
  },
  {
   "cell_type": "markdown",
   "metadata": {},
   "source": [
    "#### Solution:\n",
    "\n",
    "The result of the current task is the Jupyter Notebook weather.ipynb, which the user already has open.  Inside, brief reports explain how Tasks 1 to 7 were completed, with detailed information provided in the task solutions."
   ]
  },
  {
   "cell_type": "markdown",
   "metadata": {},
   "source": [
    "### Task 9: pandas\n",
    "In your weather.ipynb notebook, use the pandas function read_json() to load in any one of the weather data files you have downloaded with your script. Examine and summarize the \n",
    "data. Use the information provided data.gov.ie to write a short explanation of what the data set contains."
   ]
  },
  {
   "cell_type": "markdown",
   "metadata": {},
   "source": []
  }
 ],
 "metadata": {
  "kernelspec": {
   "display_name": "base",
   "language": "python",
   "name": "python3"
  },
  "language_info": {
   "codemirror_mode": {
    "name": "ipython",
    "version": 3
   },
   "file_extension": ".py",
   "mimetype": "text/x-python",
   "name": "python",
   "nbconvert_exporter": "python",
   "pygments_lexer": "ipython3",
   "version": "3.11.7"
  }
 },
 "nbformat": 4,
 "nbformat_minor": 2
}
